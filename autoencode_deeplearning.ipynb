{
  "nbformat": 4,
  "nbformat_minor": 0,
  "metadata": {
    "colab": {
      "name": "autoencode_deeplearning.ipynb",
      "provenance": [],
      "collapsed_sections": []
    },
    "kernelspec": {
      "name": "python3",
      "display_name": "Python 3"
    },
    "accelerator": "GPU"
  },
  "cells": [
    {
      "cell_type": "markdown",
      "metadata": {
        "id": "01QnDzGk-1NH",
        "colab_type": "text"
      },
      "source": [
        "A minimal example."
      ]
    },
    {
      "cell_type": "code",
      "metadata": {
        "id": "n4VMPFpQ-zyr",
        "colab_type": "code",
        "outputId": "0a4e309a-098b-4d63-b3de-694610978466",
        "colab": {
          "base_uri": "https://localhost:8080/",
          "height": 34
        }
      },
      "source": [
        "%tensorflow_version 2.x"
      ],
      "execution_count": 0,
      "outputs": [
        {
          "output_type": "stream",
          "text": [
            "TensorFlow 2.x selected.\n"
          ],
          "name": "stdout"
        }
      ]
    },
    {
      "cell_type": "code",
      "metadata": {
        "id": "LsaxpntV-6ib",
        "colab_type": "code",
        "colab": {}
      },
      "source": [
        "import tensorflow as tf"
      ],
      "execution_count": 0,
      "outputs": []
    },
    {
      "cell_type": "code",
      "metadata": {
        "id": "7Dg4faMO-91R",
        "colab_type": "code",
        "colab": {}
      },
      "source": [
        "from tensorflow.keras.layers import Input, Dense\n",
        "from tensorflow.keras.models import Model\n",
        "\n",
        "encoding_dim = 32\n",
        "input_img = Input(shape=(784,))\n",
        "encoded = Dense(encoding_dim, activation='relu')(input_img)\n",
        "decoded = Dense(784, activation='sigmoid')(encoded)\n",
        "autoencoder = Model(input_img, decoded)"
      ],
      "execution_count": 0,
      "outputs": []
    },
    {
      "cell_type": "code",
      "metadata": {
        "id": "9i7IkpO9_ebA",
        "colab_type": "code",
        "outputId": "a41564e4-ab06-4406-defc-54a990208e52",
        "colab": {
          "base_uri": "https://localhost:8080/",
          "height": 272
        }
      },
      "source": [
        "from tensorflow.keras.utils import plot_model\n",
        "plot_model(autoencoder, to_file='model.png')"
      ],
      "execution_count": 0,
      "outputs": [
        {
          "output_type": "execute_result",
          "data": {
            "image/png": "[encoded data removed]",
            "text/plain": [
              "<IPython.core.display.Image object>"
            ]
          },
          "metadata": {
            "tags": []
          },
          "execution_count": 7
        }
      ]
    },
    {
      "cell_type": "code",
      "metadata": {
        "id": "E7nZa0Z8_NCN",
        "colab_type": "code",
        "colab": {}
      },
      "source": [
        "# a separate model, just for convenience\n",
        "encoder = Model(input_img, encoded)"
      ],
      "execution_count": 0,
      "outputs": []
    },
    {
      "cell_type": "code",
      "metadata": {
        "id": "-_isMofk_ORR",
        "colab_type": "code",
        "colab": {}
      },
      "source": [
        "# a separate model, just for convenience\n",
        "encoded_input = Input(shape=(encoding_dim,))\n",
        "decoder_layer = autoencoder.layers[-1]\n",
        "decoder = Model(encoded_input, decoder_layer(encoded_input))"
      ],
      "execution_count": 0,
      "outputs": []
    },
    {
      "cell_type": "code",
      "metadata": {
        "id": "ItgOoQ1s_PnC",
        "colab_type": "code",
        "colab": {}
      },
      "source": [
        "autoencoder.compile(optimizer='adam', loss='binary_crossentropy')"
      ],
      "execution_count": 0,
      "outputs": []
    },
    {
      "cell_type": "code",
      "metadata": {
        "id": "cWB2Smzj_Q_N",
        "colab_type": "code",
        "outputId": "76c2cbb2-4168-4adb-cc26-f9e4c5495394",
        "colab": {
          "base_uri": "https://localhost:8080/",
          "height": 51
        }
      },
      "source": [
        "from tensorflow.keras.datasets import mnist\n",
        "import numpy as np\n",
        "(x_train, _), (x_test, _) = mnist.load_data()"
      ],
      "execution_count": 0,
      "outputs": [
        {
          "output_type": "stream",
          "text": [
            "Downloading data from https://storage.googleapis.com/tensorflow/tf-keras-datasets/mnist.npz\n",
            "11493376/11490434 [==============================] - 1s 0us/step\n"
          ],
          "name": "stdout"
        }
      ]
    },
    {
      "cell_type": "code",
      "metadata": {
        "id": "10RxRv2Y_STC",
        "colab_type": "code",
        "outputId": "f4a58382-47e0-41fe-ab71-9a70e7a759c0",
        "colab": {
          "base_uri": "https://localhost:8080/",
          "height": 51
        }
      },
      "source": [
        "x_train = x_train.astype('float32') / 255.\n",
        "x_test = x_test.astype('float32') / 255.\n",
        "x_train = x_train.reshape((len(x_train), np.prod(x_train.shape[1:])))\n",
        "x_test = x_test.reshape((len(x_test), np.prod(x_test.shape[1:])))\n",
        "print (x_train.shape)\n",
        "print (x_test.shape)"
      ],
      "execution_count": 0,
      "outputs": [
        {
          "output_type": "stream",
          "text": [
            "(60000, 784)\n",
            "(10000, 784)\n"
          ],
          "name": "stdout"
        }
      ]
    },
    {
      "cell_type": "code",
      "metadata": {
        "id": "EObC7isA_TgH",
        "colab_type": "code",
        "outputId": "395fbf25-ff7e-416c-ba2c-b82e09ef83e7",
        "colab": {
          "base_uri": "https://localhost:8080/",
          "height": 731
        }
      },
      "source": [
        "autoencoder.fit(x_train, x_train,\n",
        "                epochs=20,\n",
        "                batch_size=256,\n",
        "                shuffle=True,\n",
        "                validation_data=(x_test, x_test))"
      ],
      "execution_count": 0,
      "outputs": [
        {
          "output_type": "stream",
          "text": [
            "Train on 60000 samples, validate on 10000 samples\n",
            "Epoch 1/20\n",
            "60000/60000 [==============================] - 3s 45us/sample - loss: 0.2774 - val_loss: 0.1866\n",
            "Epoch 2/20\n",
            "60000/60000 [==============================] - 1s 16us/sample - loss: 0.1692 - val_loss: 0.1529\n",
            "Epoch 3/20\n",
            "60000/60000 [==============================] - 1s 16us/sample - loss: 0.1435 - val_loss: 0.1326\n",
            "Epoch 4/20\n",
            "60000/60000 [==============================] - 1s 18us/sample - loss: 0.1275 - val_loss: 0.1203\n",
            "Epoch 5/20\n",
            "60000/60000 [==============================] - 1s 17us/sample - loss: 0.1175 - val_loss: 0.1124\n",
            "Epoch 6/20\n",
            "60000/60000 [==============================] - 1s 17us/sample - loss: 0.1108 - val_loss: 0.1070\n",
            "Epoch 7/20\n",
            "60000/60000 [==============================] - 1s 17us/sample - loss: 0.1060 - val_loss: 0.1027\n",
            "Epoch 8/20\n",
            "60000/60000 [==============================] - 1s 17us/sample - loss: 0.1024 - val_loss: 0.0995\n",
            "Epoch 9/20\n",
            "60000/60000 [==============================] - 1s 17us/sample - loss: 0.0997 - val_loss: 0.0973\n",
            "Epoch 10/20\n",
            "60000/60000 [==============================] - 1s 17us/sample - loss: 0.0978 - val_loss: 0.0957\n",
            "Epoch 11/20\n",
            "60000/60000 [==============================] - 1s 16us/sample - loss: 0.0965 - val_loss: 0.0946\n",
            "Epoch 12/20\n",
            "60000/60000 [==============================] - 1s 17us/sample - loss: 0.0955 - val_loss: 0.0939\n",
            "Epoch 13/20\n",
            "60000/60000 [==============================] - 1s 16us/sample - loss: 0.0949 - val_loss: 0.0933\n",
            "Epoch 14/20\n",
            "60000/60000 [==============================] - 1s 16us/sample - loss: 0.0945 - val_loss: 0.0930\n",
            "Epoch 15/20\n",
            "60000/60000 [==============================] - 1s 16us/sample - loss: 0.0942 - val_loss: 0.0927\n",
            "Epoch 16/20\n",
            "60000/60000 [==============================] - 1s 15us/sample - loss: 0.0939 - val_loss: 0.0926\n",
            "Epoch 17/20\n",
            "60000/60000 [==============================] - 1s 16us/sample - loss: 0.0938 - val_loss: 0.0924\n",
            "Epoch 18/20\n",
            "60000/60000 [==============================] - 1s 16us/sample - loss: 0.0936 - val_loss: 0.0923\n",
            "Epoch 19/20\n",
            "60000/60000 [==============================] - 1s 15us/sample - loss: 0.0935 - val_loss: 0.0923\n",
            "Epoch 20/20\n",
            "60000/60000 [==============================] - 1s 15us/sample - loss: 0.0934 - val_loss: 0.0920\n"
          ],
          "name": "stdout"
        },
        {
          "output_type": "execute_result",
          "data": {
            "text/plain": [
              "<tensorflow.python.keras.callbacks.History at 0x7f0c7008eda0>"
            ]
          },
          "metadata": {
            "tags": []
          },
          "execution_count": 11
        }
      ]
    },
    {
      "cell_type": "code",
      "metadata": {
        "id": "f9RJs9et_VXl",
        "colab_type": "code",
        "colab": {}
      },
      "source": [
        "# encode and decode some digits\n",
        "# note that we take them from the *test* set\n",
        "encoded_imgs = encoder.predict(x_test)\n",
        "decoded_imgs = decoder.predict(encoded_imgs)"
      ],
      "execution_count": 0,
      "outputs": []
    },
    {
      "cell_type": "code",
      "metadata": {
        "id": "Vp-sf4yH_Vm3",
        "colab_type": "code",
        "outputId": "9d0a0da5-7631-4abe-e194-59e1f29d78a6",
        "colab": {
          "base_uri": "https://localhost:8080/",
          "height": 248
        }
      },
      "source": [
        "import matplotlib.pyplot as plt\n",
        "\n",
        "n = 10  # number of digits to display\n",
        "plt.figure(figsize=(20, 4))\n",
        "for i in range(n):\n",
        "    #\n",
        "    ax = plt.subplot(2, n, i + 1)\n",
        "    plt.imshow(x_test[i].reshape(28, 28))\n",
        "    plt.gray()\n",
        "    ax.get_xaxis().set_visible(False)\n",
        "    ax.get_yaxis().set_visible(False)\n",
        "\n",
        "    # display reconstruction\n",
        "    ax = plt.subplot(2, n, i + 1 + n)\n",
        "    plt.imshow(decoded_imgs[i].reshape(28, 28))\n",
        "    plt.gray()\n",
        "    ax.get_xaxis().set_visible(False)\n",
        "    ax.get_yaxis().set_visible(False)\n",
        "plt.show()"
      ],
      "execution_count": 0,
      "outputs": [
        {
          "output_type": "display_data",
          "data": {
            "image/png": "[encoded data removed]",
            "text/plain": [
              "<Figure size 1440x288 with 20 Axes>"
            ]
          },
          "metadata": {
            "tags": []
          }
        }
      ]
    },
    {
      "cell_type": "code",
      "metadata": {
        "id": "Y-7uSheo_dU5",
        "colab_type": "code",
        "colab": {}
      },
      "source": [
        ""
      ],
      "execution_count": 0,
      "outputs": []
    }
  ]
}