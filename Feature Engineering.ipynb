{
 "cells": [
  {
   "cell_type": "markdown",
   "metadata": {},
   "source": []
  },
  {
   "cell_type": "markdown",
   "metadata": {},
   "source": [
    "#In this workbook you will\n",
    "- Use RandomForest to calculate the best features for your model\n",
    "- Handling outlying data using `apply` and `groupby`\n",
    "- Discretize (or bucket) data into groups\n",
    "- Make your own features for your model"
   ]
  },
  {
   "cell_type": "code",
   "execution_count": 1,
   "metadata": {},
   "outputs": [],
   "source": [
    "import pandas as pd\n",
    "import numpy as np\n",
    "import pylab as pl"
   ]
  },
  {
   "cell_type": "code",
   "execution_count": 2,
   "metadata": {},
   "outputs": [],
   "source": [
    "df = pd.read_csv(\"./data/credit-data-trainingset.csv\")"
   ]
  },
  {
   "cell_type": "code",
   "execution_count": 3,
   "metadata": {},
   "outputs": [
    {
     "data": {
      "text/html": [
       "<div>\n",
       "<style scoped>\n",
       "    .dataframe tbody tr th:only-of-type {\n",
       "        vertical-align: middle;\n",
       "    }\n",
       "\n",
       "    .dataframe tbody tr th {\n",
       "        vertical-align: top;\n",
       "    }\n",
       "\n",
       "    .dataframe thead th {\n",
       "        text-align: right;\n",
       "    }\n",
       "</style>\n",
       "<table border=\"1\" class=\"dataframe\">\n",
       "  <thead>\n",
       "    <tr style=\"text-align: right;\">\n",
       "      <th></th>\n",
       "      <th>serious_dlqin2yrs</th>\n",
       "      <th>revolving_utilization_of_unsecured_lines</th>\n",
       "      <th>age</th>\n",
       "      <th>number_of_time30-59_days_past_due_not_worse</th>\n",
       "      <th>debt_ratio</th>\n",
       "      <th>monthly_income</th>\n",
       "      <th>number_of_open_credit_lines_and_loans</th>\n",
       "      <th>number_of_times90_days_late</th>\n",
       "      <th>number_real_estate_loans_or_lines</th>\n",
       "      <th>number_of_time60-89_days_past_due_not_worse</th>\n",
       "      <th>number_of_dependents</th>\n",
       "    </tr>\n",
       "  </thead>\n",
       "  <tbody>\n",
       "    <tr>\n",
       "      <td>0</td>\n",
       "      <td>0</td>\n",
       "      <td>0.658180</td>\n",
       "      <td>38</td>\n",
       "      <td>1</td>\n",
       "      <td>0.085113</td>\n",
       "      <td>3042.0</td>\n",
       "      <td>2</td>\n",
       "      <td>1</td>\n",
       "      <td>0</td>\n",
       "      <td>0</td>\n",
       "      <td>0.0</td>\n",
       "    </tr>\n",
       "    <tr>\n",
       "      <td>1</td>\n",
       "      <td>0</td>\n",
       "      <td>0.907239</td>\n",
       "      <td>49</td>\n",
       "      <td>1</td>\n",
       "      <td>0.024926</td>\n",
       "      <td>63588.0</td>\n",
       "      <td>7</td>\n",
       "      <td>0</td>\n",
       "      <td>1</td>\n",
       "      <td>0</td>\n",
       "      <td>0.0</td>\n",
       "    </tr>\n",
       "    <tr>\n",
       "      <td>2</td>\n",
       "      <td>0</td>\n",
       "      <td>0.213179</td>\n",
       "      <td>74</td>\n",
       "      <td>0</td>\n",
       "      <td>0.375607</td>\n",
       "      <td>3500.0</td>\n",
       "      <td>3</td>\n",
       "      <td>0</td>\n",
       "      <td>1</td>\n",
       "      <td>0</td>\n",
       "      <td>1.0</td>\n",
       "    </tr>\n",
       "    <tr>\n",
       "      <td>3</td>\n",
       "      <td>0</td>\n",
       "      <td>0.644226</td>\n",
       "      <td>30</td>\n",
       "      <td>0</td>\n",
       "      <td>0.309476</td>\n",
       "      <td>2500.0</td>\n",
       "      <td>5</td>\n",
       "      <td>0</td>\n",
       "      <td>0</td>\n",
       "      <td>0</td>\n",
       "      <td>0.0</td>\n",
       "    </tr>\n",
       "    <tr>\n",
       "      <td>4</td>\n",
       "      <td>0</td>\n",
       "      <td>0.018798</td>\n",
       "      <td>51</td>\n",
       "      <td>0</td>\n",
       "      <td>0.531529</td>\n",
       "      <td>6501.0</td>\n",
       "      <td>7</td>\n",
       "      <td>0</td>\n",
       "      <td>2</td>\n",
       "      <td>0</td>\n",
       "      <td>2.0</td>\n",
       "    </tr>\n",
       "  </tbody>\n",
       "</table>\n",
       "</div>"
      ],
      "text/plain": [
       "   serious_dlqin2yrs  revolving_utilization_of_unsecured_lines  age  \\\n",
       "0                  0                                  0.658180   38   \n",
       "1                  0                                  0.907239   49   \n",
       "2                  0                                  0.213179   74   \n",
       "3                  0                                  0.644226   30   \n",
       "4                  0                                  0.018798   51   \n",
       "\n",
       "   number_of_time30-59_days_past_due_not_worse  debt_ratio  monthly_income  \\\n",
       "0                                            1    0.085113          3042.0   \n",
       "1                                            1    0.024926         63588.0   \n",
       "2                                            0    0.375607          3500.0   \n",
       "3                                            0    0.309476          2500.0   \n",
       "4                                            0    0.531529          6501.0   \n",
       "\n",
       "   number_of_open_credit_lines_and_loans  number_of_times90_days_late  \\\n",
       "0                                      2                            1   \n",
       "1                                      7                            0   \n",
       "2                                      3                            0   \n",
       "3                                      5                            0   \n",
       "4                                      7                            0   \n",
       "\n",
       "   number_real_estate_loans_or_lines  \\\n",
       "0                                  0   \n",
       "1                                  1   \n",
       "2                                  1   \n",
       "3                                  0   \n",
       "4                                  2   \n",
       "\n",
       "   number_of_time60-89_days_past_due_not_worse  number_of_dependents  \n",
       "0                                            0                   0.0  \n",
       "1                                            0                   0.0  \n",
       "2                                            0                   1.0  \n",
       "3                                            0                   0.0  \n",
       "4                                            0                   2.0  "
      ]
     },
     "execution_count": 3,
     "metadata": {},
     "output_type": "execute_result"
    }
   ],
   "source": [
    "df.head()"
   ]
  },
  {
   "cell_type": "markdown",
   "metadata": {},
   "source": [
    "##Finding Important Features\n",
    "We're going to let scikit-learn help us determine which variables are the best at predicting risk. To do this, we're going to use an algorithm called `RandomForest`. `RandomForest` randomly generates a \"forest\" of decision trees. As the trees are randomly generated, the algorithm takes turns leaving out each variable in fitting the model. This allows the `RandomForest` to calculate just how much worse a model does when each variable is left out."
   ]
  },
  {
   "cell_type": "code",
   "execution_count": 58,
   "metadata": {},
   "outputs": [],
   "source": [
    "from sklearn.ensemble import RandomForestClassifier\n",
    "\n",
    "features = np.array(['revolving_utilization_of_unsecured_lines',\n",
    "                     'age', 'number_of_time30-59_days_past_due_not_worse',\n",
    "                     'debt_ratio', 'monthly_income','number_of_open_credit_lines_and_loans', \n",
    "                     'number_of_times90_days_late', 'number_real_estate_loans_or_lines',\n",
    "                     'number_of_time60-89_days_past_due_not_worse', 'number_of_dependents'])"
   ]
  },
  {
   "cell_type": "code",
   "execution_count": 59,
   "metadata": {},
   "outputs": [
    {
     "data": {
      "text/plain": [
       "array(['revolving_utilization_of_unsecured_lines', 'age',\n",
       "       'number_of_time30-59_days_past_due_not_worse', 'debt_ratio',\n",
       "       'monthly_income', 'number_of_open_credit_lines_and_loans',\n",
       "       'number_of_times90_days_late', 'number_real_estate_loans_or_lines',\n",
       "       'number_of_time60-89_days_past_due_not_worse',\n",
       "       'number_of_dependents'], dtype='<U43')"
      ]
     },
     "execution_count": 59,
     "metadata": {},
     "output_type": "execute_result"
    }
   ],
   "source": [
    "features"
   ]
  },
  {
   "cell_type": "code",
   "execution_count": 60,
   "metadata": {},
   "outputs": [
    {
     "name": "stderr",
     "output_type": "stream",
     "text": [
      "C:\\ProgramData\\Anaconda3\\lib\\site-packages\\sklearn\\ensemble\\forest.py:245: FutureWarning: The default value of n_estimators will change from 10 in version 0.20 to 100 in 0.22.\n",
      "  \"10 in version 0.20 to 100 in 0.22.\", FutureWarning)\n"
     ]
    },
    {
     "data": {
      "text/plain": [
       "RandomForestClassifier(bootstrap=True, class_weight=None, criterion='gini',\n",
       "                       max_depth=None, max_features='auto', max_leaf_nodes=None,\n",
       "                       min_impurity_decrease=0.0, min_impurity_split=None,\n",
       "                       min_samples_leaf=1, min_samples_split=2,\n",
       "                       min_weight_fraction_leaf=0.0, n_estimators=10,\n",
       "                       n_jobs=None, oob_score=False, random_state=None,\n",
       "                       verbose=0, warm_start=False)"
      ]
     },
     "execution_count": 60,
     "metadata": {},
     "output_type": "execute_result"
    }
   ],
   "source": [
    "clf = RandomForestClassifier()\n",
    "clf.fit(df[features], df['serious_dlqin2yrs'])"
   ]
  },
  {
   "cell_type": "code",
   "execution_count": 61,
   "metadata": {},
   "outputs": [],
   "source": [
    "# from the calculated importances, order them from most to least important\n",
    "# and make a barplot so we can visualize what is/isn't important\n",
    "importances = clf.feature_importances_\n",
    "sorted_idx = np.argsort(importances)"
   ]
  },
  {
   "cell_type": "code",
   "execution_count": 62,
   "metadata": {},
   "outputs": [
    {
     "data": {
      "image/png": "[encoded data removed]",
      "text/plain": [
       "<Figure size 432x288 with 1 Axes>"
      ]
     },
     "metadata": {
      "needs_background": "light"
     },
     "output_type": "display_data"
    }
   ],
   "source": [
    "padding = np.arange(len(features)) + 0.5\n",
    "pl.barh(padding, importances[sorted_idx], align='center')\n",
    "pl.yticks(padding, features[sorted_idx])\n",
    "pl.xlabel(\"Relative Importance\")\n",
    "pl.title(\"Variable Importance\")\n",
    "pl.show()"
   ]
  },
  {
   "cell_type": "markdown",
   "metadata": {},
   "source": [
    "So you can see that the best variable is `revolving_utilization_of_unsecured_lines` while the worst is `number_real_estate_loans_or_lines`. There's also a dramatic drop off after `number_of_open_credit_lines_and_loans`. This is where you need to use your own discretion. How many variables should you include in your model?"
   ]
  },
  {
   "cell_type": "markdown",
   "metadata": {},
   "source": [
    "###Engineering Additional Features\n",
    "Feature selection/engineering will likely have the biggest impact in determining the success/failure of your model. Even if you're using the latest and greatest algorithm, if you put in non-important features you're going to get poor results. Remember, it's math, not magic.\n",
    "\n",
    "Feature engineering is a skill that will take time to get the hang of. Sometimes the best way is to just talk to people. Ask questions, brainstorm with others, etc. Oftentimes 2 features might not be helpful when used individually, but when combined they can be extremely powerful.\n",
    "\n"
   ]
  },
  {
   "cell_type": "code",
   "execution_count": 63,
   "metadata": {},
   "outputs": [
    {
     "data": {
      "text/plain": [
       "(4000.0, 5000.0]      15810\n",
       "(3000.0, 4000.0]      14311\n",
       "(6000.0, 7000.0]      13975\n",
       "(5000.0, 6000.0]      12951\n",
       "(2000.0, 3000.0]       9785\n",
       "(7000.0, 8000.0]       9444\n",
       "(8000.0, 9000.0]       7396\n",
       "(1000.0, 2000.0]       5417\n",
       "(9000.0, 10000.0]      5389\n",
       "(14000.0, 15000.0]     5125\n",
       "(-15.0, 1000.0]        3632\n",
       "(10000.0, 11000.0]     3609\n",
       "(11000.0, 12000.0]     2396\n",
       "(12000.0, 13000.0]     1939\n",
       "(13000.0, 14000.0]     1198\n",
       "Name: income_bins, dtype: int64"
      ]
     },
     "execution_count": 63,
     "metadata": {},
     "output_type": "execute_result"
    }
   ],
   "source": [
    "df['income_bins'] = pd.cut(df.monthly_income, bins=15)\n",
    "pd.value_counts(df['income_bins'])\n",
    "# not very helpful"
   ]
  },
  {
   "cell_type": "markdown",
   "metadata": {},
   "source": [
    "###Bucketing Continuous Values"
   ]
  },
  {
   "cell_type": "markdown",
   "metadata": {},
   "source": [
    "####Use the cap_value function you wrote previously to cap monthly_income at $15,000"
   ]
  },
  {
   "cell_type": "code",
   "execution_count": 64,
   "metadata": {},
   "outputs": [],
   "source": [
    "def cap_values(x, cap):\n",
    "    if x > cap:\n",
    "        return cap\n",
    "    else:\n",
    "        return x\n",
    "    \n",
    "df.monthly_income = df.monthly_income.apply(lambda x: cap_values(x, 15000))"
   ]
  },
  {
   "cell_type": "code",
   "execution_count": 80,
   "metadata": {},
   "outputs": [
    {
     "data": {
      "text/plain": [
       "count    112377.000000\n",
       "mean       6139.139682\n",
       "std        3411.677509\n",
       "min           0.000000\n",
       "25%        3750.000000\n",
       "50%        5528.375605\n",
       "75%        7997.515360\n",
       "max       15000.000000\n",
       "Name: monthly_income, dtype: float64"
      ]
     },
     "execution_count": 80,
     "metadata": {},
     "output_type": "execute_result"
    }
   ],
   "source": [
    "df.monthly_income.describe()"
   ]
  },
  {
   "cell_type": "code",
   "execution_count": 81,
   "metadata": {},
   "outputs": [
    {
     "data": {
      "text/plain": [
       "4     15810\n",
       "3     14311\n",
       "6     13975\n",
       "5     12951\n",
       "2      9785\n",
       "7      9444\n",
       "8      7396\n",
       "1      5417\n",
       "9      5389\n",
       "14     5125\n",
       "0      3632\n",
       "10     3609\n",
       "11     2396\n",
       "12     1939\n",
       "13     1198\n",
       "Name: income_bins, dtype: int64"
      ]
     },
     "execution_count": 81,
     "metadata": {},
     "output_type": "execute_result"
    }
   ],
   "source": [
    "df['income_bins'] = pd.cut(df.monthly_income, bins=15, labels=False)\n",
    "pd.value_counts(df.income_bins)"
   ]
  },
  {
   "cell_type": "code",
   "execution_count": 67,
   "metadata": {},
   "outputs": [
    {
     "data": {
      "text/html": [
       "<div>\n",
       "<style scoped>\n",
       "    .dataframe tbody tr th:only-of-type {\n",
       "        vertical-align: middle;\n",
       "    }\n",
       "\n",
       "    .dataframe tbody tr th {\n",
       "        vertical-align: top;\n",
       "    }\n",
       "\n",
       "    .dataframe thead th {\n",
       "        text-align: right;\n",
       "    }\n",
       "</style>\n",
       "<table border=\"1\" class=\"dataframe\">\n",
       "  <thead>\n",
       "    <tr style=\"text-align: right;\">\n",
       "      <th></th>\n",
       "      <th>serious_dlqin2yrs</th>\n",
       "    </tr>\n",
       "    <tr>\n",
       "      <th>income_bins</th>\n",
       "      <th></th>\n",
       "    </tr>\n",
       "  </thead>\n",
       "  <tbody>\n",
       "    <tr>\n",
       "      <td>0</td>\n",
       "      <td>0.055341</td>\n",
       "    </tr>\n",
       "    <tr>\n",
       "      <td>1</td>\n",
       "      <td>0.102640</td>\n",
       "    </tr>\n",
       "    <tr>\n",
       "      <td>2</td>\n",
       "      <td>0.098212</td>\n",
       "    </tr>\n",
       "    <tr>\n",
       "      <td>3</td>\n",
       "      <td>0.094333</td>\n",
       "    </tr>\n",
       "    <tr>\n",
       "      <td>4</td>\n",
       "      <td>0.073498</td>\n",
       "    </tr>\n",
       "    <tr>\n",
       "      <td>5</td>\n",
       "      <td>0.066945</td>\n",
       "    </tr>\n",
       "    <tr>\n",
       "      <td>6</td>\n",
       "      <td>0.049660</td>\n",
       "    </tr>\n",
       "    <tr>\n",
       "      <td>7</td>\n",
       "      <td>0.050508</td>\n",
       "    </tr>\n",
       "    <tr>\n",
       "      <td>8</td>\n",
       "      <td>0.050568</td>\n",
       "    </tr>\n",
       "    <tr>\n",
       "      <td>9</td>\n",
       "      <td>0.050288</td>\n",
       "    </tr>\n",
       "    <tr>\n",
       "      <td>10</td>\n",
       "      <td>0.041563</td>\n",
       "    </tr>\n",
       "    <tr>\n",
       "      <td>11</td>\n",
       "      <td>0.039232</td>\n",
       "    </tr>\n",
       "    <tr>\n",
       "      <td>12</td>\n",
       "      <td>0.046416</td>\n",
       "    </tr>\n",
       "    <tr>\n",
       "      <td>13</td>\n",
       "      <td>0.042571</td>\n",
       "    </tr>\n",
       "    <tr>\n",
       "      <td>14</td>\n",
       "      <td>0.049561</td>\n",
       "    </tr>\n",
       "  </tbody>\n",
       "</table>\n",
       "</div>"
      ],
      "text/plain": [
       "             serious_dlqin2yrs\n",
       "income_bins                   \n",
       "0                     0.055341\n",
       "1                     0.102640\n",
       "2                     0.098212\n",
       "3                     0.094333\n",
       "4                     0.073498\n",
       "5                     0.066945\n",
       "6                     0.049660\n",
       "7                     0.050508\n",
       "8                     0.050568\n",
       "9                     0.050288\n",
       "10                    0.041563\n",
       "11                    0.039232\n",
       "12                    0.046416\n",
       "13                    0.042571\n",
       "14                    0.049561"
      ]
     },
     "execution_count": 67,
     "metadata": {},
     "output_type": "execute_result"
    }
   ],
   "source": [
    "df[[\"income_bins\", \"serious_dlqin2yrs\"]].groupby(\"income_bins\").mean()"
   ]
  },
  {
   "cell_type": "code",
   "execution_count": 68,
   "metadata": {},
   "outputs": [
    {
     "data": {
      "text/plain": [
       "<matplotlib.axes._subplots.AxesSubplot at 0x15cd76f4088>"
      ]
     },
     "execution_count": 68,
     "metadata": {},
     "output_type": "execute_result"
    },
    {
     "data": {
      "image/png": "[encoded data removed]",
      "text/plain": [
       "<Figure size 432x288 with 1 Axes>"
      ]
     },
     "metadata": {
      "needs_background": "light"
     },
     "output_type": "display_data"
    }
   ],
   "source": [
    "cols = [\"income_bins\", \"serious_dlqin2yrs\"]\n",
    "df[cols].groupby(\"income_bins\").mean().plot()"
   ]
  },
  {
   "cell_type": "code",
   "execution_count": 69,
   "metadata": {},
   "outputs": [
    {
     "data": {
      "text/plain": [
       "<matplotlib.axes._subplots.AxesSubplot at 0x15cd86c3b08>"
      ]
     },
     "execution_count": 69,
     "metadata": {},
     "output_type": "execute_result"
    },
    {
     "data": {
      "image/png": "[encoded data removed]",
      "text/plain": [
       "<Figure size 432x288 with 1 Axes>"
      ]
     },
     "metadata": {
      "needs_background": "light"
     },
     "output_type": "display_data"
    }
   ],
   "source": [
    "cols = ['age', 'serious_dlqin2yrs']\n",
    "age_means = df[cols].groupby(\"age\").mean()\n",
    "age_means.plot()"
   ]
  },
  {
   "cell_type": "markdown",
   "metadata": {},
   "source": [
    "####Bin `age` into 14 different groups. Then make a frequency table that shows the number of customers that were/were not delinquent for each bin.\n",
    "*HINT: You might want to have larger bins near the min/max values to account for outliers.*"
   ]
  },
  {
   "cell_type": "code",
   "execution_count": 70,
   "metadata": {},
   "outputs": [
    {
     "data": {
      "text/plain": [
       "0         (35.0, 40.0]\n",
       "1         (45.0, 50.0]\n",
       "2         (70.0, 75.0]\n",
       "3         (25.0, 30.0]\n",
       "4         (50.0, 55.0]\n",
       "              ...     \n",
       "112372             NaN\n",
       "112373    (25.0, 30.0]\n",
       "112374             NaN\n",
       "112375    (45.0, 50.0]\n",
       "112376    (55.0, 60.0]\n",
       "Name: age_bucket, Length: 112377, dtype: category\n",
       "Categories (11, interval[int64]): [(20, 25] < (25, 30] < (30, 35] < (35, 40] ... (55, 60] < (60, 65] < (65, 70] < (70, 75]]"
      ]
     },
     "execution_count": 70,
     "metadata": {},
     "output_type": "execute_result"
    }
   ],
   "source": [
    "mybins =  range(20, 80, 5) \n",
    "df['age_bucket'] = pd.cut(df.age, bins=mybins)\n",
    "df['age_bucket']"
   ]
  },
  {
   "cell_type": "markdown",
   "metadata": {},
   "source": [
    "####Using the age bins, calculate the percent of customers that were delinquent for each bucket"
   ]
  },
  {
   "cell_type": "code",
   "execution_count": 71,
   "metadata": {},
   "outputs": [
    {
     "data": {
      "text/html": [
       "<div>\n",
       "<style scoped>\n",
       "    .dataframe tbody tr th:only-of-type {\n",
       "        vertical-align: middle;\n",
       "    }\n",
       "\n",
       "    .dataframe tbody tr th {\n",
       "        vertical-align: top;\n",
       "    }\n",
       "\n",
       "    .dataframe thead th {\n",
       "        text-align: right;\n",
       "    }\n",
       "</style>\n",
       "<table border=\"1\" class=\"dataframe\">\n",
       "  <thead>\n",
       "    <tr style=\"text-align: right;\">\n",
       "      <th></th>\n",
       "      <th>serious_dlqin2yrs</th>\n",
       "    </tr>\n",
       "    <tr>\n",
       "      <th>age_bucket</th>\n",
       "      <th></th>\n",
       "    </tr>\n",
       "  </thead>\n",
       "  <tbody>\n",
       "    <tr>\n",
       "      <td>(20, 25]</td>\n",
       "      <td>0.112967</td>\n",
       "    </tr>\n",
       "    <tr>\n",
       "      <td>(25, 30]</td>\n",
       "      <td>0.115932</td>\n",
       "    </tr>\n",
       "    <tr>\n",
       "      <td>(30, 35]</td>\n",
       "      <td>0.108419</td>\n",
       "    </tr>\n",
       "    <tr>\n",
       "      <td>(35, 40]</td>\n",
       "      <td>0.093133</td>\n",
       "    </tr>\n",
       "    <tr>\n",
       "      <td>(40, 45]</td>\n",
       "      <td>0.086158</td>\n",
       "    </tr>\n",
       "    <tr>\n",
       "      <td>(45, 50]</td>\n",
       "      <td>0.080508</td>\n",
       "    </tr>\n",
       "    <tr>\n",
       "      <td>(50, 55]</td>\n",
       "      <td>0.071713</td>\n",
       "    </tr>\n",
       "    <tr>\n",
       "      <td>(55, 60]</td>\n",
       "      <td>0.050849</td>\n",
       "    </tr>\n",
       "    <tr>\n",
       "      <td>(60, 65]</td>\n",
       "      <td>0.040492</td>\n",
       "    </tr>\n",
       "    <tr>\n",
       "      <td>(65, 70]</td>\n",
       "      <td>0.027619</td>\n",
       "    </tr>\n",
       "    <tr>\n",
       "      <td>(70, 75]</td>\n",
       "      <td>0.023763</td>\n",
       "    </tr>\n",
       "  </tbody>\n",
       "</table>\n",
       "</div>"
      ],
      "text/plain": [
       "            serious_dlqin2yrs\n",
       "age_bucket                   \n",
       "(20, 25]             0.112967\n",
       "(25, 30]             0.115932\n",
       "(30, 35]             0.108419\n",
       "(35, 40]             0.093133\n",
       "(40, 45]             0.086158\n",
       "(45, 50]             0.080508\n",
       "(50, 55]             0.071713\n",
       "(55, 60]             0.050849\n",
       "(60, 65]             0.040492\n",
       "(65, 70]             0.027619\n",
       "(70, 75]             0.023763"
      ]
     },
     "execution_count": 71,
     "metadata": {},
     "output_type": "execute_result"
    }
   ],
   "source": [
    "df[[\"age_bucket\", \"serious_dlqin2yrs\"]].groupby(\"age_bucket\").mean()"
   ]
  },
  {
   "cell_type": "code",
   "execution_count": 72,
   "metadata": {},
   "outputs": [
    {
     "data": {
      "text/plain": [
       "<matplotlib.axes._subplots.AxesSubplot at 0x15cd23d5608>"
      ]
     },
     "execution_count": 72,
     "metadata": {},
     "output_type": "execute_result"
    },
    {
     "data": {
      "image/png": "[encoded data removed]",
      "text/plain": [
       "<Figure size 432x288 with 1 Axes>"
      ]
     },
     "metadata": {
      "needs_background": "light"
     },
     "output_type": "display_data"
    }
   ],
   "source": [
    "df[[\"age_bucket\", \"serious_dlqin2yrs\"]].groupby(\"age_bucket\").mean().plot()"
   ]
  },
  {
   "cell_type": "code",
   "execution_count": 73,
   "metadata": {},
   "outputs": [],
   "source": [
    "labels, levels = pd.factorize(df.age_bucket)\n",
    "df.age_bucket = labels"
   ]
  },
  {
   "cell_type": "markdown",
   "metadata": {},
   "source": [
    "####Write something that buckets debt_ratio into 4 (nearly) equally sized groups.\n",
    "*Hint: use the `quantile` method for Series*"
   ]
  },
  {
   "cell_type": "code",
   "execution_count": 82,
   "metadata": {},
   "outputs": [
    {
     "data": {
      "text/plain": [
       "0                       NaN\n",
       "1                       NaN\n",
       "2            (0.287, 0.466]\n",
       "3            (0.287, 0.466]\n",
       "4            (0.466, 3.659]\n",
       "                ...        \n",
       "112372    (3.659, 329664.0]\n",
       "112373    (3.659, 329664.0]\n",
       "112374    (3.659, 329664.0]\n",
       "112375    (3.659, 329664.0]\n",
       "112376    (3.659, 329664.0]\n",
       "Name: debt_ratio, Length: 112377, dtype: category\n",
       "Categories (4, interval[float64]): [(0.133, 0.287] < (0.287, 0.466] < (0.466, 3.659] < (3.659, 329664.0]]"
      ]
     },
     "execution_count": 82,
     "metadata": {},
     "output_type": "execute_result"
    }
   ],
   "source": [
    "bins = []\n",
    "\n",
    "for q in [0.2, 0.4, 0.6, 0.8, 1.0]:\n",
    "    bins.append(df.debt_ratio.quantile(q))\n",
    "\n",
    "debt_ratio_binned = pd.cut(df.debt_ratio, bins=bins)\n",
    "debt_ratio_binned\n",
    "#print pd.value_counts(debt_ratio_binned)"
   ]
  },
  {
   "cell_type": "markdown",
   "metadata": {},
   "source": [
    "###Scaling Features\n",
    "Some algorithms will work better if your data is centered around 0. The `StandardScaler` module in `scikit-learn` makes it very easy to quickly scale columns in your data frame."
   ]
  },
  {
   "cell_type": "code",
   "execution_count": 75,
   "metadata": {},
   "outputs": [],
   "source": [
    "#from sklearn.preprocessing import StandardScaler\n",
    "#df['monthly_income_scaled'] = StandardScaler().fit_transform(df.monthly_income)\n",
    "from sklearn.preprocessing import scale\n",
    "df['monthly_income_scaled'] = pd.DataFrame(scale(df.monthly_income, axis=0, with_mean=True, with_std=True, copy=True))"
   ]
  },
  {
   "cell_type": "code",
   "execution_count": 76,
   "metadata": {},
   "outputs": [
    {
     "data": {
      "text/plain": [
       "count    1.123770e+05\n",
       "mean     1.484002e-16\n",
       "std      1.000004e+00\n",
       "min     -1.799457e+00\n",
       "25%     -7.002861e-01\n",
       "50%     -1.790224e-01\n",
       "75%      5.447127e-01\n",
       "max      2.597227e+00\n",
       "Name: monthly_income_scaled, dtype: float64"
      ]
     },
     "execution_count": 76,
     "metadata": {},
     "output_type": "execute_result"
    }
   ],
   "source": [
    "df.monthly_income_scaled.describe()"
   ]
  },
  {
   "cell_type": "code",
   "execution_count": 77,
   "metadata": {},
   "outputs": [
    {
     "name": "stdout",
     "output_type": "stream",
     "text": [
      "Mean at 0? True\n"
     ]
    },
    {
     "data": {
      "text/plain": [
       "(array([ 5323., 12220., 21448., 21457., 20252., 11444.,  7366.,  4199.,\n",
       "         2876.,  5792.]),\n",
       " array([-1.79945701, -1.35978864, -0.92012028, -0.48045191, -0.04078354,\n",
       "         0.39888482,  0.83855319,  1.27822155,  1.71788992,  2.15755828,\n",
       "         2.59722665]),\n",
       " <a list of 10 Patch objects>)"
      ]
     },
     "execution_count": 77,
     "metadata": {},
     "output_type": "execute_result"
    },
    {
     "data": {
      "image/png": "[encoded data removed]",
      "text/plain": [
       "<Figure size 432x288 with 1 Axes>"
      ]
     },
     "metadata": {
      "needs_background": "light"
     },
     "output_type": "display_data"
    }
   ],
   "source": [
    "df.monthly_income_scaled.describe()\n",
    "print(\"Mean at 0?\", round(df.monthly_income_scaled.mean(), 10)==0)\n",
    "\n",
    "df['monthly_income_scaled']\n",
    "pl.hist(df.monthly_income_scaled)"
   ]
  },
  {
   "cell_type": "markdown",
   "metadata": {},
   "source": [
    "##Redo our feature importance"
   ]
  },
  {
   "cell_type": "code",
   "execution_count": 78,
   "metadata": {},
   "outputs": [
    {
     "name": "stderr",
     "output_type": "stream",
     "text": [
      "C:\\ProgramData\\Anaconda3\\lib\\site-packages\\sklearn\\ensemble\\forest.py:245: FutureWarning: The default value of n_estimators will change from 10 in version 0.20 to 100 in 0.22.\n",
      "  \"10 in version 0.20 to 100 in 0.22.\", FutureWarning)\n"
     ]
    },
    {
     "data": {
      "image/png": "[encoded data removed]",
      "text/plain": [
       "<Figure size 432x288 with 1 Axes>"
      ]
     },
     "metadata": {
      "needs_background": "light"
     },
     "output_type": "display_data"
    }
   ],
   "source": [
    "features = np.array(['revolving_utilization_of_unsecured_lines',\n",
    "                     'age', 'number_of_time30-59_days_past_due_not_worse',\n",
    "                     'debt_ratio', 'monthly_income','number_of_open_credit_lines_and_loans', \n",
    "                     'number_of_times90_days_late', 'number_real_estate_loans_or_lines',\n",
    "                     'number_of_time60-89_days_past_due_not_worse', 'number_of_dependents',\n",
    "                     'income_bins', 'age_bucket', 'monthly_income_scaled'])\n",
    "\n",
    "clf = RandomForestClassifier()\n",
    "clf.fit(df[features], df['serious_dlqin2yrs'])\n",
    "\n",
    "importances = clf.feature_importances_\n",
    "sorted_idx = np.argsort(importances)\n",
    "\n",
    "padding = np.arange(len(features)) + 0.5\n",
    "pl.barh(padding, importances[sorted_idx], align='center')\n",
    "pl.yticks(padding, features[sorted_idx])\n",
    "pl.xlabel(\"Relative Importance\")\n",
    "pl.title(\"Variable Importance\")\n",
    "pl.show()"
   ]
  },
  {
   "cell_type": "code",
   "execution_count": 79,
   "metadata": {},
   "outputs": [
    {
     "data": {
      "text/plain": [
       "array(['revolving_utilization_of_unsecured_lines', 'debt_ratio',\n",
       "       'monthly_income_scaled', 'monthly_income', 'age',\n",
       "       'number_of_times90_days_late',\n",
       "       'number_of_open_credit_lines_and_loans',\n",
       "       'number_of_time30-59_days_past_due_not_worse',\n",
       "       'number_of_time60-89_days_past_due_not_worse', 'age_bucket',\n",
       "       'number_of_dependents', 'income_bins',\n",
       "       'number_real_estate_loans_or_lines'], dtype='<U43')"
      ]
     },
     "execution_count": 79,
     "metadata": {},
     "output_type": "execute_result"
    }
   ],
   "source": [
    "best_features = features[sorted_idx][::-1]\n",
    "best_features"
   ]
  },
  {
   "cell_type": "markdown",
   "metadata": {},
   "source": [
    "##Test out your own features\n",
    "Partner with the person sitting next to you and see if you can come up with some new features that outperform the basic variables.\n",
    "\n",
    "- brainstorm new features\n",
    "- create them using pandas\n",
    "- test their effectiveness w/ scikit-learn\n",
    "\n",
    "Things you might try:\n",
    "\n",
    "- Try using some of the scikit-learn [preprecessing functions](http://scikit-learn.org/stable/modules/preprocessing.html#preprocessing)\n",
    "- Look at `pd.get_dummies`\n",
    "- Combine features together (total times late, log(monthly_income), age^2)"
   ]
  },
  {
   "cell_type": "markdown",
   "metadata": {},
   "source": [
    "##We just did the following\n",
    "\n",
    "- Ranked feature importance using RandomForest\n",
    "- Created some of our own features using `pandas` and `scikit-learn`\n",
    "- Scaled data using `scikit-learn`"
   ]
  }
 ],
 "metadata": {
  "kernelspec": {
   "display_name": "Python 3",
   "language": "python",
   "name": "python3"
  },
  "language_info": {
   "codemirror_mode": {
    "name": "ipython",
    "version": 3
   },
   "file_extension": ".py",
   "mimetype": "text/x-python",
   "name": "python",
   "nbconvert_exporter": "python",
   "pygments_lexer": "ipython3",
   "version": "3.7.4"
  }
 },
 "nbformat": 4,
 "nbformat_minor": 1
}
