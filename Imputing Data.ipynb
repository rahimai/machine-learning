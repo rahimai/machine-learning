{
 "cells": [
  {
   "cell_type": "markdown",
   "metadata": {},
   "source": []
  },
  {
   "cell_type": "markdown",
   "metadata": {},
   "source": [
    "#In this workbook you will\n",
    "- Learn about imputation and what it's used for\n",
    "- Use the KNearestNeighbors algorithm to impute data\n",
    "- Come up with your own imputation strategy"
   ]
  },
  {
   "cell_type": "markdown",
   "metadata": {},
   "source": [
    "#Imputation\n",
    "Imputation is fairly intuitive. For the missing data in our dataset, we're going to replace it with values that come from similar records in our dataset that aren't null.\n",
    "To do this we're going to use the NearestNeighbors algorithm."
   ]
  },
  {
   "cell_type": "code",
   "execution_count": 1,
   "metadata": {},
   "outputs": [],
   "source": [
    "import pandas as pd\n",
    "import numpy as np\n",
    "import pylab as pl"
   ]
  },
  {
   "cell_type": "code",
   "execution_count": 2,
   "metadata": {},
   "outputs": [],
   "source": [
    "df = pd.read_csv(\"./data/credit-data-post-import.csv\")"
   ]
  },
  {
   "cell_type": "markdown",
   "metadata": {},
   "source": [
    "##Cross Validation\n",
    "We're going to use the simplest type of cross validation. we'll simply split our data into 2 groups: training and test. we'll use the training set to calibrate our model and then use the test set to  evaluate how effective it is."
   ]
  },
  {
   "cell_type": "code",
   "execution_count": 3,
   "metadata": {},
   "outputs": [],
   "source": [
    "is_test = np.random.uniform(0, 1, len(df)) > 0.75\n",
    "train = df[is_test==False]\n",
    "test = df[is_test==True]"
   ]
  },
  {
   "cell_type": "code",
   "execution_count": 4,
   "metadata": {},
   "outputs": [
    {
     "data": {
      "text/plain": [
       "(112327, 37673)"
      ]
     },
     "execution_count": 4,
     "metadata": {},
     "output_type": "execute_result"
    }
   ],
   "source": [
    "len(train), len(test)"
   ]
  },
  {
   "cell_type": "markdown",
   "metadata": {},
   "source": [
    "##Be sure to calibrate the imputation with the training set"
   ]
  },
  {
   "cell_type": "code",
   "execution_count": 5,
   "metadata": {},
   "outputs": [],
   "source": [
    "from sklearn.neighbors import KNeighborsRegressor\n",
    "\n",
    "income_imputer = KNeighborsRegressor(n_neighbors=1)\n",
    "\n",
    "#split our data into 2 groups; data containing nulls and data \n",
    "# not containing nulls we'll train on the latter and make\n",
    "# 'predictions' on the null data to impute monthly_income\n",
    "train_w_monthly_income = train[train.monthly_income.isnull()==False]\n",
    "train_w_null_monthly_income = train[train.monthly_income.isnull()==True]"
   ]
  },
  {
   "cell_type": "code",
   "execution_count": 6,
   "metadata": {},
   "outputs": [
    {
     "data": {
      "text/html": [
       "<div>\n",
       "<style scoped>\n",
       "    .dataframe tbody tr th:only-of-type {\n",
       "        vertical-align: middle;\n",
       "    }\n",
       "\n",
       "    .dataframe tbody tr th {\n",
       "        vertical-align: top;\n",
       "    }\n",
       "\n",
       "    .dataframe thead th {\n",
       "        text-align: right;\n",
       "    }\n",
       "</style>\n",
       "<table border=\"1\" class=\"dataframe\">\n",
       "  <thead>\n",
       "    <tr style=\"text-align: right;\">\n",
       "      <th></th>\n",
       "      <th>serious_dlqin2yrs</th>\n",
       "      <th>revolving_utilization_of_unsecured_lines</th>\n",
       "      <th>age</th>\n",
       "      <th>number_of_time30-59_days_past_due_not_worse</th>\n",
       "      <th>debt_ratio</th>\n",
       "      <th>monthly_income</th>\n",
       "      <th>number_of_open_credit_lines_and_loans</th>\n",
       "      <th>number_of_times90_days_late</th>\n",
       "      <th>number_real_estate_loans_or_lines</th>\n",
       "      <th>number_of_time60-89_days_past_due_not_worse</th>\n",
       "      <th>number_of_dependents</th>\n",
       "    </tr>\n",
       "  </thead>\n",
       "  <tbody>\n",
       "    <tr>\n",
       "      <td>serious_dlqin2yrs</td>\n",
       "      <td>1.000000</td>\n",
       "      <td>-0.001012</td>\n",
       "      <td>-0.103779</td>\n",
       "      <td>0.126544</td>\n",
       "      <td>-0.002410</td>\n",
       "      <td>-0.023843</td>\n",
       "      <td>-0.028537</td>\n",
       "      <td>0.115168</td>\n",
       "      <td>-0.004382</td>\n",
       "      <td>0.097971</td>\n",
       "      <td>0.045259</td>\n",
       "    </tr>\n",
       "    <tr>\n",
       "      <td>revolving_utilization_of_unsecured_lines</td>\n",
       "      <td>-0.001012</td>\n",
       "      <td>1.000000</td>\n",
       "      <td>-0.005104</td>\n",
       "      <td>-0.001659</td>\n",
       "      <td>-0.001518</td>\n",
       "      <td>0.003575</td>\n",
       "      <td>-0.013481</td>\n",
       "      <td>-0.000895</td>\n",
       "      <td>0.003028</td>\n",
       "      <td>-0.001006</td>\n",
       "      <td>0.001274</td>\n",
       "    </tr>\n",
       "    <tr>\n",
       "      <td>age</td>\n",
       "      <td>-0.103779</td>\n",
       "      <td>-0.005104</td>\n",
       "      <td>1.000000</td>\n",
       "      <td>-0.046989</td>\n",
       "      <td>-0.000334</td>\n",
       "      <td>0.045096</td>\n",
       "      <td>0.187407</td>\n",
       "      <td>-0.045315</td>\n",
       "      <td>0.064963</td>\n",
       "      <td>-0.041125</td>\n",
       "      <td>-0.205417</td>\n",
       "    </tr>\n",
       "    <tr>\n",
       "      <td>number_of_time30-59_days_past_due_not_worse</td>\n",
       "      <td>0.126544</td>\n",
       "      <td>-0.001659</td>\n",
       "      <td>-0.046989</td>\n",
       "      <td>1.000000</td>\n",
       "      <td>-0.001840</td>\n",
       "      <td>-0.011500</td>\n",
       "      <td>-0.044874</td>\n",
       "      <td>0.975814</td>\n",
       "      <td>-0.024293</td>\n",
       "      <td>0.980627</td>\n",
       "      <td>0.001031</td>\n",
       "    </tr>\n",
       "    <tr>\n",
       "      <td>debt_ratio</td>\n",
       "      <td>-0.002410</td>\n",
       "      <td>-0.001518</td>\n",
       "      <td>-0.000334</td>\n",
       "      <td>-0.001840</td>\n",
       "      <td>1.000000</td>\n",
       "      <td>-0.034228</td>\n",
       "      <td>0.009362</td>\n",
       "      <td>-0.003003</td>\n",
       "      <td>0.022629</td>\n",
       "      <td>-0.002237</td>\n",
       "      <td>0.011675</td>\n",
       "    </tr>\n",
       "    <tr>\n",
       "      <td>monthly_income</td>\n",
       "      <td>-0.023843</td>\n",
       "      <td>0.003575</td>\n",
       "      <td>0.045096</td>\n",
       "      <td>-0.011500</td>\n",
       "      <td>-0.034228</td>\n",
       "      <td>1.000000</td>\n",
       "      <td>0.106582</td>\n",
       "      <td>-0.014628</td>\n",
       "      <td>0.147971</td>\n",
       "      <td>-0.012761</td>\n",
       "      <td>0.070330</td>\n",
       "    </tr>\n",
       "    <tr>\n",
       "      <td>number_of_open_credit_lines_and_loans</td>\n",
       "      <td>-0.028537</td>\n",
       "      <td>-0.013481</td>\n",
       "      <td>0.187407</td>\n",
       "      <td>-0.044874</td>\n",
       "      <td>0.009362</td>\n",
       "      <td>0.106582</td>\n",
       "      <td>1.000000</td>\n",
       "      <td>-0.072854</td>\n",
       "      <td>0.426207</td>\n",
       "      <td>-0.062342</td>\n",
       "      <td>0.039774</td>\n",
       "    </tr>\n",
       "    <tr>\n",
       "      <td>number_of_times90_days_late</td>\n",
       "      <td>0.115168</td>\n",
       "      <td>-0.000895</td>\n",
       "      <td>-0.045315</td>\n",
       "      <td>0.975814</td>\n",
       "      <td>-0.003003</td>\n",
       "      <td>-0.014628</td>\n",
       "      <td>-0.072854</td>\n",
       "      <td>1.000000</td>\n",
       "      <td>-0.040966</td>\n",
       "      <td>0.989471</td>\n",
       "      <td>-0.006124</td>\n",
       "    </tr>\n",
       "    <tr>\n",
       "      <td>number_real_estate_loans_or_lines</td>\n",
       "      <td>-0.004382</td>\n",
       "      <td>0.003028</td>\n",
       "      <td>0.064963</td>\n",
       "      <td>-0.024293</td>\n",
       "      <td>0.022629</td>\n",
       "      <td>0.147971</td>\n",
       "      <td>0.426207</td>\n",
       "      <td>-0.040966</td>\n",
       "      <td>1.000000</td>\n",
       "      <td>-0.034922</td>\n",
       "      <td>0.119733</td>\n",
       "    </tr>\n",
       "    <tr>\n",
       "      <td>number_of_time60-89_days_past_due_not_worse</td>\n",
       "      <td>0.097971</td>\n",
       "      <td>-0.001006</td>\n",
       "      <td>-0.041125</td>\n",
       "      <td>0.980627</td>\n",
       "      <td>-0.002237</td>\n",
       "      <td>-0.012761</td>\n",
       "      <td>-0.062342</td>\n",
       "      <td>0.989471</td>\n",
       "      <td>-0.034922</td>\n",
       "      <td>1.000000</td>\n",
       "      <td>-0.007666</td>\n",
       "    </tr>\n",
       "    <tr>\n",
       "      <td>number_of_dependents</td>\n",
       "      <td>0.045259</td>\n",
       "      <td>0.001274</td>\n",
       "      <td>-0.205417</td>\n",
       "      <td>0.001031</td>\n",
       "      <td>0.011675</td>\n",
       "      <td>0.070330</td>\n",
       "      <td>0.039774</td>\n",
       "      <td>-0.006124</td>\n",
       "      <td>0.119733</td>\n",
       "      <td>-0.007666</td>\n",
       "      <td>1.000000</td>\n",
       "    </tr>\n",
       "  </tbody>\n",
       "</table>\n",
       "</div>"
      ],
      "text/plain": [
       "                                             serious_dlqin2yrs  \\\n",
       "serious_dlqin2yrs                                     1.000000   \n",
       "revolving_utilization_of_unsecured_lines             -0.001012   \n",
       "age                                                  -0.103779   \n",
       "number_of_time30-59_days_past_due_not_worse           0.126544   \n",
       "debt_ratio                                           -0.002410   \n",
       "monthly_income                                       -0.023843   \n",
       "number_of_open_credit_lines_and_loans                -0.028537   \n",
       "number_of_times90_days_late                           0.115168   \n",
       "number_real_estate_loans_or_lines                    -0.004382   \n",
       "number_of_time60-89_days_past_due_not_worse           0.097971   \n",
       "number_of_dependents                                  0.045259   \n",
       "\n",
       "                                             revolving_utilization_of_unsecured_lines  \\\n",
       "serious_dlqin2yrs                                                           -0.001012   \n",
       "revolving_utilization_of_unsecured_lines                                     1.000000   \n",
       "age                                                                         -0.005104   \n",
       "number_of_time30-59_days_past_due_not_worse                                 -0.001659   \n",
       "debt_ratio                                                                  -0.001518   \n",
       "monthly_income                                                               0.003575   \n",
       "number_of_open_credit_lines_and_loans                                       -0.013481   \n",
       "number_of_times90_days_late                                                 -0.000895   \n",
       "number_real_estate_loans_or_lines                                            0.003028   \n",
       "number_of_time60-89_days_past_due_not_worse                                 -0.001006   \n",
       "number_of_dependents                                                         0.001274   \n",
       "\n",
       "                                                  age  \\\n",
       "serious_dlqin2yrs                           -0.103779   \n",
       "revolving_utilization_of_unsecured_lines    -0.005104   \n",
       "age                                          1.000000   \n",
       "number_of_time30-59_days_past_due_not_worse -0.046989   \n",
       "debt_ratio                                  -0.000334   \n",
       "monthly_income                               0.045096   \n",
       "number_of_open_credit_lines_and_loans        0.187407   \n",
       "number_of_times90_days_late                 -0.045315   \n",
       "number_real_estate_loans_or_lines            0.064963   \n",
       "number_of_time60-89_days_past_due_not_worse -0.041125   \n",
       "number_of_dependents                        -0.205417   \n",
       "\n",
       "                                             number_of_time30-59_days_past_due_not_worse  \\\n",
       "serious_dlqin2yrs                                                               0.126544   \n",
       "revolving_utilization_of_unsecured_lines                                       -0.001659   \n",
       "age                                                                            -0.046989   \n",
       "number_of_time30-59_days_past_due_not_worse                                     1.000000   \n",
       "debt_ratio                                                                     -0.001840   \n",
       "monthly_income                                                                 -0.011500   \n",
       "number_of_open_credit_lines_and_loans                                          -0.044874   \n",
       "number_of_times90_days_late                                                     0.975814   \n",
       "number_real_estate_loans_or_lines                                              -0.024293   \n",
       "number_of_time60-89_days_past_due_not_worse                                     0.980627   \n",
       "number_of_dependents                                                            0.001031   \n",
       "\n",
       "                                             debt_ratio  monthly_income  \\\n",
       "serious_dlqin2yrs                             -0.002410       -0.023843   \n",
       "revolving_utilization_of_unsecured_lines      -0.001518        0.003575   \n",
       "age                                           -0.000334        0.045096   \n",
       "number_of_time30-59_days_past_due_not_worse   -0.001840       -0.011500   \n",
       "debt_ratio                                     1.000000       -0.034228   \n",
       "monthly_income                                -0.034228        1.000000   \n",
       "number_of_open_credit_lines_and_loans          0.009362        0.106582   \n",
       "number_of_times90_days_late                   -0.003003       -0.014628   \n",
       "number_real_estate_loans_or_lines              0.022629        0.147971   \n",
       "number_of_time60-89_days_past_due_not_worse   -0.002237       -0.012761   \n",
       "number_of_dependents                           0.011675        0.070330   \n",
       "\n",
       "                                             number_of_open_credit_lines_and_loans  \\\n",
       "serious_dlqin2yrs                                                        -0.028537   \n",
       "revolving_utilization_of_unsecured_lines                                 -0.013481   \n",
       "age                                                                       0.187407   \n",
       "number_of_time30-59_days_past_due_not_worse                              -0.044874   \n",
       "debt_ratio                                                                0.009362   \n",
       "monthly_income                                                            0.106582   \n",
       "number_of_open_credit_lines_and_loans                                     1.000000   \n",
       "number_of_times90_days_late                                              -0.072854   \n",
       "number_real_estate_loans_or_lines                                         0.426207   \n",
       "number_of_time60-89_days_past_due_not_worse                              -0.062342   \n",
       "number_of_dependents                                                      0.039774   \n",
       "\n",
       "                                             number_of_times90_days_late  \\\n",
       "serious_dlqin2yrs                                               0.115168   \n",
       "revolving_utilization_of_unsecured_lines                       -0.000895   \n",
       "age                                                            -0.045315   \n",
       "number_of_time30-59_days_past_due_not_worse                     0.975814   \n",
       "debt_ratio                                                     -0.003003   \n",
       "monthly_income                                                 -0.014628   \n",
       "number_of_open_credit_lines_and_loans                          -0.072854   \n",
       "number_of_times90_days_late                                     1.000000   \n",
       "number_real_estate_loans_or_lines                              -0.040966   \n",
       "number_of_time60-89_days_past_due_not_worse                     0.989471   \n",
       "number_of_dependents                                           -0.006124   \n",
       "\n",
       "                                             number_real_estate_loans_or_lines  \\\n",
       "serious_dlqin2yrs                                                    -0.004382   \n",
       "revolving_utilization_of_unsecured_lines                              0.003028   \n",
       "age                                                                   0.064963   \n",
       "number_of_time30-59_days_past_due_not_worse                          -0.024293   \n",
       "debt_ratio                                                            0.022629   \n",
       "monthly_income                                                        0.147971   \n",
       "number_of_open_credit_lines_and_loans                                 0.426207   \n",
       "number_of_times90_days_late                                          -0.040966   \n",
       "number_real_estate_loans_or_lines                                     1.000000   \n",
       "number_of_time60-89_days_past_due_not_worse                          -0.034922   \n",
       "number_of_dependents                                                  0.119733   \n",
       "\n",
       "                                             number_of_time60-89_days_past_due_not_worse  \\\n",
       "serious_dlqin2yrs                                                               0.097971   \n",
       "revolving_utilization_of_unsecured_lines                                       -0.001006   \n",
       "age                                                                            -0.041125   \n",
       "number_of_time30-59_days_past_due_not_worse                                     0.980627   \n",
       "debt_ratio                                                                     -0.002237   \n",
       "monthly_income                                                                 -0.012761   \n",
       "number_of_open_credit_lines_and_loans                                          -0.062342   \n",
       "number_of_times90_days_late                                                     0.989471   \n",
       "number_real_estate_loans_or_lines                                              -0.034922   \n",
       "number_of_time60-89_days_past_due_not_worse                                     1.000000   \n",
       "number_of_dependents                                                           -0.007666   \n",
       "\n",
       "                                             number_of_dependents  \n",
       "serious_dlqin2yrs                                        0.045259  \n",
       "revolving_utilization_of_unsecured_lines                 0.001274  \n",
       "age                                                     -0.205417  \n",
       "number_of_time30-59_days_past_due_not_worse              0.001031  \n",
       "debt_ratio                                               0.011675  \n",
       "monthly_income                                           0.070330  \n",
       "number_of_open_credit_lines_and_loans                    0.039774  \n",
       "number_of_times90_days_late                             -0.006124  \n",
       "number_real_estate_loans_or_lines                        0.119733  \n",
       "number_of_time60-89_days_past_due_not_worse             -0.007666  \n",
       "number_of_dependents                                     1.000000  "
      ]
     },
     "execution_count": 6,
     "metadata": {},
     "output_type": "execute_result"
    }
   ],
   "source": [
    "train_w_monthly_income.corr()"
   ]
  },
  {
   "cell_type": "code",
   "execution_count": 7,
   "metadata": {},
   "outputs": [
    {
     "name": "stderr",
     "output_type": "stream",
     "text": [
      "C:\\ProgramData\\Anaconda3\\lib\\site-packages\\ipykernel_launcher.py:1: FutureWarning: \n",
      ".ix is deprecated. Please use\n",
      ".loc for label based indexing or\n",
      ".iloc for positional indexing\n",
      "\n",
      "See the documentation here:\n",
      "http://pandas.pydata.org/pandas-docs/stable/user_guide/indexing.html#ix-indexer-is-deprecated\n",
      "  \"\"\"Entry point for launching an IPython kernel.\n"
     ]
    },
    {
     "data": {
      "text/plain": [
       "serious_dlqin2yrs                             -0.023843\n",
       "revolving_utilization_of_unsecured_lines       0.003575\n",
       "age                                            0.045096\n",
       "number_of_time30-59_days_past_due_not_worse   -0.011500\n",
       "debt_ratio                                    -0.034228\n",
       "monthly_income                                 1.000000\n",
       "number_of_open_credit_lines_and_loans          0.106582\n",
       "number_of_times90_days_late                   -0.014628\n",
       "number_real_estate_loans_or_lines              0.147971\n",
       "number_of_time60-89_days_past_due_not_worse   -0.012761\n",
       "number_of_dependents                           0.070330\n",
       "Name: monthly_income, dtype: float64"
      ]
     },
     "execution_count": 7,
     "metadata": {},
     "output_type": "execute_result"
    }
   ],
   "source": [
    "train_w_monthly_income.corr().ix[:,5]"
   ]
  },
  {
   "cell_type": "code",
   "execution_count": 8,
   "metadata": {},
   "outputs": [
    {
     "data": {
      "text/plain": [
       "KNeighborsRegressor(algorithm='auto', leaf_size=30, metric='minkowski',\n",
       "                    metric_params=None, n_jobs=None, n_neighbors=1, p=2,\n",
       "                    weights='uniform')"
      ]
     },
     "execution_count": 8,
     "metadata": {},
     "output_type": "execute_result"
    }
   ],
   "source": [
    "cols = ['number_real_estate_loans_or_lines', 'number_of_open_credit_lines_and_loans']\n",
    "income_imputer.fit(train_w_monthly_income[cols], train_w_monthly_income.monthly_income)"
   ]
  },
  {
   "cell_type": "markdown",
   "metadata": {},
   "source": [
    "##Replace the mising values"
   ]
  },
  {
   "cell_type": "code",
   "execution_count": 9,
   "metadata": {},
   "outputs": [],
   "source": [
    "new_values = income_imputer.predict(train_w_null_monthly_income[cols])\n"
   ]
  },
  {
   "cell_type": "code",
   "execution_count": 10,
   "metadata": {},
   "outputs": [
    {
     "name": "stderr",
     "output_type": "stream",
     "text": [
      "C:\\ProgramData\\Anaconda3\\lib\\site-packages\\ipykernel_launcher.py:1: SettingWithCopyWarning: \n",
      "A value is trying to be set on a copy of a slice from a DataFrame.\n",
      "Try using .loc[row_indexer,col_indexer] = value instead\n",
      "\n",
      "See the caveats in the documentation: http://pandas.pydata.org/pandas-docs/stable/user_guide/indexing.html#returning-a-view-versus-a-copy\n",
      "  \"\"\"Entry point for launching an IPython kernel.\n"
     ]
    },
    {
     "data": {
      "text/plain": [
       "array([5022., 2000., 6143., ..., 5041., 1706., 5041.])"
      ]
     },
     "execution_count": 10,
     "metadata": {},
     "output_type": "execute_result"
    }
   ],
   "source": [
    "train_w_null_monthly_income['monthly_income'] = new_values\n",
    "new_values"
   ]
  },
  {
   "cell_type": "code",
   "execution_count": 11,
   "metadata": {},
   "outputs": [
    {
     "data": {
      "text/plain": [
       "112327"
      ]
     },
     "execution_count": 11,
     "metadata": {},
     "output_type": "execute_result"
    }
   ],
   "source": [
    "#combine the data back together\n",
    "train = train_w_monthly_income.append(train_w_null_monthly_income)\n",
    "len(train)"
   ]
  },
  {
   "cell_type": "code",
   "execution_count": 12,
   "metadata": {},
   "outputs": [
    {
     "name": "stderr",
     "output_type": "stream",
     "text": [
      "C:\\ProgramData\\Anaconda3\\lib\\site-packages\\ipykernel_launcher.py:1: SettingWithCopyWarning: \n",
      "A value is trying to be set on a copy of a slice from a DataFrame.\n",
      "Try using .loc[row_indexer,col_indexer] = value instead\n",
      "\n",
      "See the caveats in the documentation: http://pandas.pydata.org/pandas-docs/stable/user_guide/indexing.html#returning-a-view-versus-a-copy\n",
      "  \"\"\"Entry point for launching an IPython kernel.\n"
     ]
    },
    {
     "data": {
      "text/html": [
       "<div>\n",
       "<style scoped>\n",
       "    .dataframe tbody tr th:only-of-type {\n",
       "        vertical-align: middle;\n",
       "    }\n",
       "\n",
       "    .dataframe tbody tr th {\n",
       "        vertical-align: top;\n",
       "    }\n",
       "\n",
       "    .dataframe thead th {\n",
       "        text-align: right;\n",
       "    }\n",
       "</style>\n",
       "<table border=\"1\" class=\"dataframe\">\n",
       "  <thead>\n",
       "    <tr style=\"text-align: right;\">\n",
       "      <th></th>\n",
       "      <th>serious_dlqin2yrs</th>\n",
       "      <th>revolving_utilization_of_unsecured_lines</th>\n",
       "      <th>age</th>\n",
       "      <th>number_of_time30-59_days_past_due_not_worse</th>\n",
       "      <th>debt_ratio</th>\n",
       "      <th>monthly_income</th>\n",
       "      <th>number_of_open_credit_lines_and_loans</th>\n",
       "      <th>number_of_times90_days_late</th>\n",
       "      <th>number_real_estate_loans_or_lines</th>\n",
       "      <th>number_of_time60-89_days_past_due_not_worse</th>\n",
       "      <th>number_of_dependents</th>\n",
       "      <th>monthly_income_imputed</th>\n",
       "    </tr>\n",
       "  </thead>\n",
       "  <tbody>\n",
       "    <tr>\n",
       "      <td>0</td>\n",
       "      <td>1</td>\n",
       "      <td>0.766127</td>\n",
       "      <td>45</td>\n",
       "      <td>2</td>\n",
       "      <td>0.802982</td>\n",
       "      <td>9120.0</td>\n",
       "      <td>13</td>\n",
       "      <td>0</td>\n",
       "      <td>6</td>\n",
       "      <td>0</td>\n",
       "      <td>2.0</td>\n",
       "      <td>16438.0</td>\n",
       "    </tr>\n",
       "    <tr>\n",
       "      <td>2</td>\n",
       "      <td>0</td>\n",
       "      <td>0.658180</td>\n",
       "      <td>38</td>\n",
       "      <td>1</td>\n",
       "      <td>0.085113</td>\n",
       "      <td>3042.0</td>\n",
       "      <td>2</td>\n",
       "      <td>1</td>\n",
       "      <td>0</td>\n",
       "      <td>0</td>\n",
       "      <td>0.0</td>\n",
       "      <td>2000.0</td>\n",
       "    </tr>\n",
       "    <tr>\n",
       "      <td>11</td>\n",
       "      <td>0</td>\n",
       "      <td>0.018798</td>\n",
       "      <td>51</td>\n",
       "      <td>0</td>\n",
       "      <td>0.531529</td>\n",
       "      <td>6501.0</td>\n",
       "      <td>7</td>\n",
       "      <td>0</td>\n",
       "      <td>2</td>\n",
       "      <td>0</td>\n",
       "      <td>2.0</td>\n",
       "      <td>1000.0</td>\n",
       "    </tr>\n",
       "    <tr>\n",
       "      <td>15</td>\n",
       "      <td>0</td>\n",
       "      <td>0.548458</td>\n",
       "      <td>64</td>\n",
       "      <td>0</td>\n",
       "      <td>0.209892</td>\n",
       "      <td>11362.0</td>\n",
       "      <td>7</td>\n",
       "      <td>0</td>\n",
       "      <td>1</td>\n",
       "      <td>0</td>\n",
       "      <td>2.0</td>\n",
       "      <td>7548.0</td>\n",
       "    </tr>\n",
       "    <tr>\n",
       "      <td>20</td>\n",
       "      <td>0</td>\n",
       "      <td>0.200923</td>\n",
       "      <td>43</td>\n",
       "      <td>0</td>\n",
       "      <td>0.430046</td>\n",
       "      <td>12300.0</td>\n",
       "      <td>10</td>\n",
       "      <td>0</td>\n",
       "      <td>2</td>\n",
       "      <td>0</td>\n",
       "      <td>0.0</td>\n",
       "      <td>6143.0</td>\n",
       "    </tr>\n",
       "  </tbody>\n",
       "</table>\n",
       "</div>"
      ],
      "text/plain": [
       "    serious_dlqin2yrs  revolving_utilization_of_unsecured_lines  age  \\\n",
       "0                   1                                  0.766127   45   \n",
       "2                   0                                  0.658180   38   \n",
       "11                  0                                  0.018798   51   \n",
       "15                  0                                  0.548458   64   \n",
       "20                  0                                  0.200923   43   \n",
       "\n",
       "    number_of_time30-59_days_past_due_not_worse  debt_ratio  monthly_income  \\\n",
       "0                                             2    0.802982          9120.0   \n",
       "2                                             1    0.085113          3042.0   \n",
       "11                                            0    0.531529          6501.0   \n",
       "15                                            0    0.209892         11362.0   \n",
       "20                                            0    0.430046         12300.0   \n",
       "\n",
       "    number_of_open_credit_lines_and_loans  number_of_times90_days_late  \\\n",
       "0                                      13                            0   \n",
       "2                                       2                            1   \n",
       "11                                      7                            0   \n",
       "15                                      7                            0   \n",
       "20                                     10                            0   \n",
       "\n",
       "    number_real_estate_loans_or_lines  \\\n",
       "0                                   6   \n",
       "2                                   0   \n",
       "11                                  2   \n",
       "15                                  1   \n",
       "20                                  2   \n",
       "\n",
       "    number_of_time60-89_days_past_due_not_worse  number_of_dependents  \\\n",
       "0                                             0                   2.0   \n",
       "2                                             0                   0.0   \n",
       "11                                            0                   2.0   \n",
       "15                                            0                   2.0   \n",
       "20                                            0                   0.0   \n",
       "\n",
       "    monthly_income_imputed  \n",
       "0                  16438.0  \n",
       "2                   2000.0  \n",
       "11                  1000.0  \n",
       "15                  7548.0  \n",
       "20                  6143.0  "
      ]
     },
     "execution_count": 12,
     "metadata": {},
     "output_type": "execute_result"
    }
   ],
   "source": [
    "test['monthly_income_imputed'] = income_imputer.predict(test[cols])\n",
    "test.head()"
   ]
  },
  {
   "cell_type": "code",
   "execution_count": 13,
   "metadata": {},
   "outputs": [
    {
     "name": "stderr",
     "output_type": "stream",
     "text": [
      "C:\\ProgramData\\Anaconda3\\lib\\site-packages\\ipykernel_launcher.py:2: SettingWithCopyWarning: \n",
      "A value is trying to be set on a copy of a slice from a DataFrame.\n",
      "Try using .loc[row_indexer,col_indexer] = value instead\n",
      "\n",
      "See the caveats in the documentation: http://pandas.pydata.org/pandas-docs/stable/user_guide/indexing.html#returning-a-view-versus-a-copy\n",
      "  \n"
     ]
    }
   ],
   "source": [
    "test['monthly_income'] = np.where(test.monthly_income.isnull(), test.monthly_income_imputed,\n",
    "                                  test.monthly_income)"
   ]
  },
  {
   "cell_type": "code",
   "execution_count": 16,
   "metadata": {},
   "outputs": [
    {
     "name": "stdout",
     "output_type": "stream",
     "text": [
      "False    112327\n",
      "Name: monthly_income, dtype: int64\n",
      "False    37673\n",
      "Name: monthly_income, dtype: int64\n"
     ]
    }
   ],
   "source": [
    "print(pd.value_counts(train.monthly_income.isnull()))\n",
    "print(pd.value_counts(test.monthly_income.isnull()))"
   ]
  },
  {
   "cell_type": "code",
   "execution_count": 15,
   "metadata": {},
   "outputs": [],
   "source": [
    "train.to_csv(\"./data/credit-data-trainingset.csv\", index=False)\n",
    "test.to_csv(\"./data/credit-data-testset.csv\", index=False)"
   ]
  },
  {
   "cell_type": "markdown",
   "metadata": {},
   "source": [
    "##Trying your own imputation strategy\n",
    "Partner with the person next to you and think of other ways you might be able to impute missing valus for the `monthly_income` column.\n",
    "\n",
    "Things to consider:\n",
    "\n",
    "- Are `number_of_open_credit_lines_and_loans` and `number_real_estate_loans_or_lines` the best predictors?\n",
    "- What are some other methods you could use for replacing nulls?\n",
    "- What about handling outlying values? Should a montly income of $3MM be treated as missing?\n",
    "- Check out the [scikit-learn docs](http://scikit-learn.org/stable/auto_examples/imputation.html) for more examples\n",
    "- How might you evaluate the effectiveness of your imputation?"
   ]
  },
  {
   "cell_type": "markdown",
   "metadata": {},
   "source": [
    "##We just did the following\n",
    "\n",
    "- Split our data into a training set for building our model and a test set for evaluating its performance\n",
    "- Used KNearestNeighbors to fill in missing values for `monthly_income`"
   ]
  },
  {
   "cell_type": "code",
   "execution_count": null,
   "metadata": {},
   "outputs": [],
   "source": []
  }
 ],
 "metadata": {
  "kernelspec": {
   "display_name": "Python 3",
   "language": "python",
   "name": "python3"
  },
  "language_info": {
   "codemirror_mode": {
    "name": "ipython",
    "version": 3
   },
   "file_extension": ".py",
   "mimetype": "text/x-python",
   "name": "python",
   "nbconvert_exporter": "python",
   "pygments_lexer": "ipython3",
   "version": "3.7.4"
  }
 },
 "nbformat": 4,
 "nbformat_minor": 1
}
