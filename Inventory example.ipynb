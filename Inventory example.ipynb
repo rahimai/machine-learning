{
 "cells": [
  {
   "cell_type": "markdown",
   "metadata": {},
   "source": [
    "# Inventory example\n",
    "\n",
    "You're the operations manager of a firm that sells widgets, and you have been tasked with reducing delivery and inventory costs. To accomplish this, you requested data about the historical monthly demand of widgets in various customer locations ($Y$) and some other features about those locations ($X$). You also split the data into a training set and a test set."
   ]
  },
  {
   "cell_type": "code",
   "execution_count": null,
   "metadata": {},
   "outputs": [],
   "source": [
    "import numpy as np\n",
    "import matplotlib.pyplot as plt\n",
    "import pandas as pd\n",
    "\n",
    "# Load data\n",
    "df_train = pd.read_csv(\"data/inventory_training.csv\")\n",
    "df_test = pd.read_csv(\"data/inventory_test.csv\")\n",
    "df_train.head()"
   ]
  },
  {
   "cell_type": "markdown",
   "metadata": {},
   "source": [
    "Use the training data to fit a data mining model. Remember to import whatever you want to use from sklearn!"
   ]
  },
  {
   "cell_type": "code",
   "execution_count": null,
   "metadata": {
    "collapsed": true
   },
   "outputs": [],
   "source": [
    "target = \"Y\"\n",
    "predictors = df_train.columns[df_train.columns != target]\n",
    "model = None # Create and fit your model here! "
   ]
  },
  {
   "cell_type": "markdown",
   "metadata": {},
   "source": [
    "Now, suppose that at the beginning of every month you have to pre-stock customer locations with widgets. Every extra unit that you stock will cost you \\$1 inventory cost. Every widget that you don't have on hand will cost you \\$1 delivery cost. According to the function below, what would be the total cost if we had used the model to predict $Y$ in the training set?"
   ]
  },
  {
   "cell_type": "code",
   "execution_count": null,
   "metadata": {},
   "outputs": [],
   "source": [
    "def total_cost(predictions, demand, inventory_cost=1, delivery_cost=1):\n",
    "    errors = demand - predictions\n",
    "    cost = ((errors > 0) * errors * delivery_cost + (errors < 0) * -1 * errors * inventory_cost).sum()\n",
    "    return \"${:,}\".format(round(cost))\n",
    "\n",
    "train_predictions = 0 # Put in this line your predictions in the TRAINING set.\n",
    "\n",
    "model_cost = total_cost(train_predictions, df_train[target])\n",
    "print(\"Total cost of your model: \", model_cost)"
   ]
  },
  {
   "cell_type": "markdown",
   "metadata": {},
   "source": [
    "What if we had used the mean instead? Does it work better than the model?"
   ]
  },
  {
   "cell_type": "code",
   "execution_count": null,
   "metadata": {},
   "outputs": [],
   "source": [
    "mean = df_train[target].mean()\n",
    "mean_cost = total_cost(mean, df_train[target])\n",
    "print(\"Total cost of the mean: \", mean_cost)"
   ]
  },
  {
   "cell_type": "markdown",
   "metadata": {},
   "source": [
    "Let's repeat the same steps but using the test set. What works better, the mean or your model?"
   ]
  },
  {
   "cell_type": "code",
   "execution_count": null,
   "metadata": {},
   "outputs": [],
   "source": [
    "test_predictions = 0 # Put in this line your predictions in the TEST set.\n",
    "\n",
    "model_cost = total_cost(test_predictions, df_test[target])\n",
    "print(\"Total cost of your model: \", model_cost)\n",
    "mean_cost = total_cost(mean, df_test[target])\n",
    "print(\"Total cost of the mean: \", mean_cost)"
   ]
  },
  {
   "cell_type": "markdown",
   "metadata": {},
   "source": [
    "Can you think of any other way to do better than the mean or the model? Try it out here!"
   ]
  },
  {
   "cell_type": "code",
   "execution_count": null,
   "metadata": {},
   "outputs": [],
   "source": [
    "better_predictions = 0 # Put here the predictions of your new proposal in the TEST set.\n",
    "\n",
    "new_cost = total_cost(better_predictions, df_test[target])\n",
    "print(\"Total cost of your new proposal: \", new_cost)"
   ]
  }
 ],
 "metadata": {
  "kernelspec": {
   "display_name": "Python 3",
   "language": "python",
   "name": "python3"
  },
  "language_info": {
   "codemirror_mode": {
    "name": "ipython",
    "version": 3
   },
   "file_extension": ".py",
   "mimetype": "text/x-python",
   "name": "python",
   "nbconvert_exporter": "python",
   "pygments_lexer": "ipython3",
   "version": "3.7.4"
  }
 },
 "nbformat": 4,
 "nbformat_minor": 2
}
