{
 "cells": [
  {
   "cell_type": "markdown",
   "metadata": {},
   "source": [
   ]
  },
  {
   "cell_type": "markdown",
   "metadata": {},
   "source": [
   ]
  },
  {
   "cell_type": "markdown",
   "metadata": {},
   "source": [
    
   ]
  },
  {
   "cell_type": "markdown",
   "metadata": {},
   "source": [
   
   ]
  },
  {
   "cell_type": "code",
   "execution_count": 75,
   "metadata": {},
   "outputs": [],
   "source": [
    "import numpy as np\n",
    "import math\n",
    "from scipy import signal\n",
    "\n",
    "def gaussian2D(sigma=0.5):\n",
    "    \"\"\"\n",
    "    2D gaussian filter\n",
    "    \"\"\"\n",
    "    size = int(math.ceil(sigma * 6))\n",
    "    if (size % 2 == 0):\n",
    "        size += 1\n",
    "    r, c = np.ogrid[-size / 2: size / 2 + 1, -size / 2: size / 2 + 1]\n",
    "    g = np.exp(-(c * c + r * r) / (2. * sigma ** 2))\n",
    "    g = g / (g.sum() + 0.000001)\n",
    "    \n",
    "    return g\n",
    "\n",
    "def box2D(n):\n",
    "    \"\"\"\n",
    "    2D box filter\n",
    "    \"\"\"\n",
    "    box = np.full((n, n), 1. / (n * n))\n",
    "    return box\n",
    "\n",
    "\n",
    "def calculate_derivatives(i1, i2, sigma=0.5, n=3):\n",
    "    \"\"\"\n",
    "    Derive Ix, Iy and It in this function\n",
    "\n",
    "    To derive the spatial derivative in one image, you need to smooth the image with gaussian filter,\n",
    "    and calculate the derivative, signal.convolve2d and np.gradient might be useful here\n",
    "\n",
    "    To derive the temporal derivative in two images, you need to filter the images with box filters,\n",
    "    and then calculate the difference between the results\n",
    "    \"\"\"\n",
    "    box_fil = box2D(n)\n",
    "    gauss_fil = gaussian2D(sigma)\n",
    "    \n",
    "    # Apply the gaussian filter to the image in t-1\n",
    "    im1 = signal.convolve2d(i1, gauss_fil, mode = 'same')\n",
    "\n",
    "    # Calculate the gradients dH/dx and dH/dy of the image in t-1\n",
    "    Ix = np.gradient(im1, axis = 0)\n",
    "    Iy = np.gradient(im1, axis = 1)\n",
    "    \n",
    "    # Filter the images with box filters \n",
    "    im1_box = signal.convolve2d(i1, box_fil, mode = 'same')\n",
    "    im2_box = signal.convolve2d(i2, box_fil, mode = 'same')\n",
    "    \n",
    "    # Calculate It = I(x, y) - H(x, y)\n",
    "    It = np.subtract(im2_box, im1_box)    \n",
    "    \n",
    "    return (Ix, Iy, It)"
   ]
  },
  {
   "cell_type": "markdown",
   "metadata": {},
   "source": [
    ]
  },
  {
   "cell_type": "code",
   "execution_count": 76,
   "metadata": {},
   "outputs": [
    {
     "name": "stdout",
     "output_type": "stream",
     "text": [
      "Testing derivatives:\n",
      "Ix difference:  3.7486934875982425e-08\n",
      "Iy difference:  1.1881858448439447e-08\n",
      "It difference:  1.2500021866561346e-09\n"
     ]
    }
   ],
   "source": [
    "def rel_error(x, y):\n",
    "  return np.max(np.abs(x - y) / (np.maximum(1e-8, np.abs(x) + np.abs(y))))\n",
    "\n",
    "# test the calculate_derivatives function\n",
    "a = np.arange(50, step=2).reshape((5,5))\n",
    "b = np.roll(a, 1, axis=1)\n",
    "ix, iy, it = calculate_derivatives(a, b, 3, 3)\n",
    "correct_ix = np.array([[ 1.19566094,  1.44638748,  1.60119287,  1.62253849,  1.50447539],\n",
    "                        [ 1.0953402,   1.32258973,  1.4614055,   1.4781469,   1.36814814],\n",
    "                        [ 0.7722809,   0.92753122,  1.01928721,  1.02535579,  0.94404567],\n",
    "                        [ 0.25022598,  0.29355951,  0.31471869,  0.30865011,  0.27704506],\n",
    "                        [-0.04909038, -0.06915144, -0.0875189,  -0.09965607, -0.10218035]])\n",
    "correct_iy = np.array([[ 0.81434768,  0.67021012,  0.31799052, -0.11348914, -0.33688675],\n",
    "                       [ 1.06507422,  0.87297609,  0.40606602, -0.16184788, -0.45494985],\n",
    "                       [ 1.26884674,  1.03627543,  0.47354769, -0.2067465,  -0.55688427],\n",
    "                       [ 1.37557486,  1.1199824,   0.5038906,  -0.23708941, -0.61757009],\n",
    "                       [ 1.3555138,   1.10076814,  0.48863828, -0.24442014, -0.62009437]])\n",
    "correct_it = np.array([[ 1.33333333,  0.88888889, -1.33333333, -1.33333333, -0.88888889],\n",
    "                       [ 2.,          1.33333333, -2.,         -2.,         -1.33333333],\n",
    "                       [ 2.,          1.33333333, -2.,         -2.,         -1.33333333],\n",
    "                       [ 2.,          1.33333333, -2.,         -2.,         -1.33333333],\n",
    "                       [ 1.33333333,  0.88888889, -1.33333333, -1.33333333, -0.88888889]])\n",
    "\n",
    "print('Testing derivatives:')\n",
    "print('Ix difference: ', rel_error(ix, correct_ix))\n",
    "print('Iy difference: ', rel_error(iy, correct_iy))\n",
    "print('It difference: ', rel_error(it, correct_it))"
   ]
  },
  {
   "cell_type": "markdown",
   "metadata": {},
   "source": [
    
   ]
  },
  {
   "cell_type": "markdown",
   "metadata": {},
   "source": [
   
   ]
  },
  {
   "cell_type": "markdown",
   "metadata": {},
   "source": [
    
   ]
  },
  {
   "cell_type": "code",
   "execution_count": 77,
   "metadata": {},
   "outputs": [],
   "source": [
    "def optical_flow(I1g, I2g, x, y, window_size, sigma, n):\n",
    "    \"\"\"\n",
    "    :param i1: the first frame\n",
    "    :param i2: the second frame\n",
    "    :param x: location to calculate optical flow\n",
    "    :param y: location to calculate optical flow\n",
    "    :param window: size of the window\n",
    "    :param sigma: smoothing coefficient\n",
    "    :param n: box filter size\n",
    "    :return: u, v\n",
    "    \"\"\"\n",
    "    \n",
    "    # Specify window size \n",
    "    w = int(window_size/2) \n",
    "\n",
    "    # Calculate f_x, f_y, f_t\n",
    "    fx, fy, ft = calculate_derivatives(I1g, I2g, sigma, n)\n",
    "    \n",
    "\n",
    "    \n",
    "    # Get the gradients w.r.t. x, namely Ix for the window \n",
    "    Ix = fx[x-w:x+w+1, y-w:y+w+1]\n",
    "    Iy = fy[x-w:x+w+1, y-w:y+w+1]\n",
    "    It = ft[x-w:x+w+1, y-w:y+w+1]\n",
    "    \n",
    "    # Flatten the matrices\n",
    "    Ix_f = np.ndarray.flatten(Ix)\n",
    "    Iy_f = np.ndarray.flatten(Iy)\n",
    "    It_f = np.ndarray.flatten(It)\n",
    "\n",
    "    # Create the A and b matrices\n",
    "    A = np.column_stack((Ix_f, Iy_f))\n",
    "    b = -It_f\n",
    "    \n",
    "    # Calculate the pseudoinverse\n",
    "    Ap = np.linalg.pinv(A)\n",
    "    d = Ap.dot(b)\n",
    "    \n",
    "    # return the displacement u and v \n",
    "    return (d[0], d[1])\n",
    "    \n",
    "\n",
    "    \n",
    "    \n",
    "    \n",
    "    "
   ]
  },
  {
   "cell_type": "markdown",
   "metadata": {},
   "source": [
    "#### Test Your Implementation\n",
    "\n",
    "Run the code below to test your implementation. You should get a very low margin of error."
   ]
  },
  {
   "cell_type": "code",
   "execution_count": 78,
   "metadata": {},
   "outputs": [
    {
     "name": "stdout",
     "output_type": "stream",
     "text": [
      "Testing derivatives:\n",
      "u difference:  1.514578608933234e-16\n",
      "v difference:  3.0131621936637763e-16\n",
     ]
    }
   ],
   "source": [
    "u, v = optical_flow(a, b, 2, 2, 3, 3, 3)\n",
    "\n",
    "correct_u = 1.4660487320722453\n",
    "correct_v = -1.84228885348387\n",
    "print('Testing derivatives:')\n",
    "print('u difference: ', rel_error(u, correct_u))\n",
    "print('v difference: ', rel_error(v, correct_v))\n",
   ]
  },
  {
   "cell_type": "markdown",
   "metadata": {},
   "source": [
   
   ]
  },
  {
   "cell_type": "markdown",
   "metadata": {},
   "source": [
    
   ]
  },
  {
   "cell_type": "code",
   "execution_count": null,
   "metadata": {},
   "outputs": [],
   "source": []
  }
 ],
 "metadata": {
  "kernelspec": {
   "display_name": "Python 3",
   "language": "python",
   "name": "python3"
  },
  "language_info": {
   "codemirror_mode": {
    "name": "ipython",
    "version": 3
   },
   "file_extension": ".py",
   "mimetype": "text/x-python",
   "name": "python",
   "nbconvert_exporter": "python",
   "pygments_lexer": "ipython3",
   "version": "3.7.3"
  }
 },
 "nbformat": 4,
 "nbformat_minor": 4
}
